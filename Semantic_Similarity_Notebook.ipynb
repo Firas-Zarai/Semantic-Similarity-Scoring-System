{
  "nbformat": 4,
  "nbformat_minor": 0,
  "metadata": {
    "colab": {
      "provenance": []
    },
    "kernelspec": {
      "name": "python3",
      "display_name": "Python 3"
    },
    "language_info": {
      "name": "python"
    },
    "accelerator": "GPU",
    "gpuClass": "standard"
  },
  "cells": [
    {
      "cell_type": "code",
      "execution_count": 77,
      "metadata": {
        "colab": {
          "base_uri": "https://localhost:8080/"
        },
        "id": "MtMsj59-w9R_",
        "outputId": "c68ae996-a384-4498-c27c-a28f19d75a86"
      },
      "outputs": [
        {
          "output_type": "stream",
          "name": "stdout",
          "text": [
            "Downloading...\n",
            "From: https://drive.google.com/uc?id=1iFDq8R2s6vCbZtelhEZZTRskI4SXcibQ\n",
            "To: /content/products_catalogue.csv\n",
            "\r  0% 0.00/18.6M [00:00<?, ?B/s]\r100% 18.6M/18.6M [00:00<00:00, 213MB/s]\n"
          ]
        }
      ],
      "source": [
        "!gdown https://drive.google.com/uc?id=1iFDq8R2s6vCbZtelhEZZTRskI4SXcibQ"
      ]
    },
    {
      "cell_type": "markdown",
      "source": [
        "# EDA"
      ],
      "metadata": {
        "id": "SDq3UnyFCqaZ"
      }
    },
    {
      "cell_type": "code",
      "source": [
        "import numpy as np\n",
        "import pandas as pd\n",
        "# For visualizations\n",
        "import matplotlib.pyplot as plt\n",
        "# For regular expressions\n",
        "import re\n",
        "# For handling string\n",
        "import string\n",
        "# For performing mathematical operations\n",
        "import math\n",
        "\n",
        "import seaborn as sns"
      ],
      "metadata": {
        "id": "zVYVuUBM5MB_"
      },
      "execution_count": 25,
      "outputs": []
    },
    {
      "cell_type": "code",
      "source": [
        "data = pd.read_csv('products_catalogue.csv', sep=';')"
      ],
      "metadata": {
        "id": "R4-ApWYa5oc-"
      },
      "execution_count": 3,
      "outputs": []
    },
    {
      "cell_type": "code",
      "source": [
        "data"
      ],
      "metadata": {
        "colab": {
          "base_uri": "https://localhost:8080/",
          "height": 424
        },
        "id": "cOBeKCxa5tpG",
        "outputId": "645cf81e-43b5-4025-ad04-419b2223619e"
      },
      "execution_count": 4,
      "outputs": [
        {
          "output_type": "execute_result",
          "data": {
            "text/plain": [
              "        product_id             brand  \\\n",
              "0           242384         teisseire   \n",
              "1           967177         livradois   \n",
              "2           967177         livradois   \n",
              "3           967269               NaN   \n",
              "4           968792           pamplie   \n",
              "...            ...               ...   \n",
              "153338    26520737               sun   \n",
              "153339    26520740  refs.sans marque   \n",
              "153340    26520751          juvamine   \n",
              "153341    26520752          juvamine   \n",
              "153342    26520758         seeberger   \n",
              "\n",
              "                                                     name  category_id  \\\n",
              "0              Boisson aux fruits multivitaminé Teisseire          834   \n",
              "1                                                 Chabrol          460   \n",
              "2                                             Chabrol IGP          460   \n",
              "3                       Quiche saumon courgettes grillées          511   \n",
              "4                                   Beurre extra-fin doux          449   \n",
              "...                                                   ...          ...   \n",
              "153338               Noisettes décortiquées Bio LES FADAS          414   \n",
              "153339                    Bière blondes Daytime LAGUNITAS          827   \n",
              "153340  Complément alimentaire vitamine C 500 LABORATO...          361   \n",
              "153341  Complément alimentaire vitamine C & magnésium ...          361   \n",
              "153342                         Chips de bananes SEEBERGER          413   \n",
              "\n",
              "                            category     parent_category  \\\n",
              "0         BOISSONS AUX FRUITS PLATES   BRSA NON GAZEUSES   \n",
              "1             FROMAGES DE SPECIALITE         FROMAGES LS   \n",
              "2             FROMAGES DE SPECIALITE         FROMAGES LS   \n",
              "3       QUICHE/TARTE SALEE/TOURTE RF         TRAITEUR LS   \n",
              "4                            BEURRES   BEURRE OEUFS LAIT   \n",
              "...                              ...                 ...   \n",
              "153338                GRAINES SALEES  PRODUITS APERITIFS   \n",
              "153339          BIERES DE SPECIALITE  BIERES ET PANACHES   \n",
              "153340          PRODUITS SANTE FORME       PARAPHARMACIE   \n",
              "153341          PRODUITS SANTE FORME       PARAPHARMACIE   \n",
              "153342            EXTRUDES ET TUILES  PRODUITS APERITIFS   \n",
              "\n",
              "       parent_parent_category parent_parent_parent_category  \n",
              "0                BRSA ET EAUX                      LIQUIDES  \n",
              "1                    CREMERIE                           FLS  \n",
              "2                    CREMERIE                           FLS  \n",
              "3       FRAIS NON LAITIERS LS                           FLS  \n",
              "4                    CREMERIE                           FLS  \n",
              "...                       ...                           ...  \n",
              "153338         EPICERIE SALEE                      EPICERIE  \n",
              "153339       BIERES ET CIDRES                      LIQUIDES  \n",
              "153340                HYGIENE                           DPH  \n",
              "153341                HYGIENE                           DPH  \n",
              "153342         EPICERIE SALEE                      EPICERIE  \n",
              "\n",
              "[153343 rows x 8 columns]"
            ],
            "text/html": [
              "\n",
              "  <div id=\"df-6af8ffaf-f4ea-4e7c-b3f2-ebdbd5d5b8b0\">\n",
              "    <div class=\"colab-df-container\">\n",
              "      <div>\n",
              "<style scoped>\n",
              "    .dataframe tbody tr th:only-of-type {\n",
              "        vertical-align: middle;\n",
              "    }\n",
              "\n",
              "    .dataframe tbody tr th {\n",
              "        vertical-align: top;\n",
              "    }\n",
              "\n",
              "    .dataframe thead th {\n",
              "        text-align: right;\n",
              "    }\n",
              "</style>\n",
              "<table border=\"1\" class=\"dataframe\">\n",
              "  <thead>\n",
              "    <tr style=\"text-align: right;\">\n",
              "      <th></th>\n",
              "      <th>product_id</th>\n",
              "      <th>brand</th>\n",
              "      <th>name</th>\n",
              "      <th>category_id</th>\n",
              "      <th>category</th>\n",
              "      <th>parent_category</th>\n",
              "      <th>parent_parent_category</th>\n",
              "      <th>parent_parent_parent_category</th>\n",
              "    </tr>\n",
              "  </thead>\n",
              "  <tbody>\n",
              "    <tr>\n",
              "      <th>0</th>\n",
              "      <td>242384</td>\n",
              "      <td>teisseire</td>\n",
              "      <td>Boisson aux fruits multivitaminé Teisseire</td>\n",
              "      <td>834</td>\n",
              "      <td>BOISSONS AUX FRUITS PLATES</td>\n",
              "      <td>BRSA NON GAZEUSES</td>\n",
              "      <td>BRSA ET EAUX</td>\n",
              "      <td>LIQUIDES</td>\n",
              "    </tr>\n",
              "    <tr>\n",
              "      <th>1</th>\n",
              "      <td>967177</td>\n",
              "      <td>livradois</td>\n",
              "      <td>Chabrol</td>\n",
              "      <td>460</td>\n",
              "      <td>FROMAGES DE SPECIALITE</td>\n",
              "      <td>FROMAGES LS</td>\n",
              "      <td>CREMERIE</td>\n",
              "      <td>FLS</td>\n",
              "    </tr>\n",
              "    <tr>\n",
              "      <th>2</th>\n",
              "      <td>967177</td>\n",
              "      <td>livradois</td>\n",
              "      <td>Chabrol IGP</td>\n",
              "      <td>460</td>\n",
              "      <td>FROMAGES DE SPECIALITE</td>\n",
              "      <td>FROMAGES LS</td>\n",
              "      <td>CREMERIE</td>\n",
              "      <td>FLS</td>\n",
              "    </tr>\n",
              "    <tr>\n",
              "      <th>3</th>\n",
              "      <td>967269</td>\n",
              "      <td>NaN</td>\n",
              "      <td>Quiche saumon courgettes grillées</td>\n",
              "      <td>511</td>\n",
              "      <td>QUICHE/TARTE SALEE/TOURTE RF</td>\n",
              "      <td>TRAITEUR LS</td>\n",
              "      <td>FRAIS NON LAITIERS LS</td>\n",
              "      <td>FLS</td>\n",
              "    </tr>\n",
              "    <tr>\n",
              "      <th>4</th>\n",
              "      <td>968792</td>\n",
              "      <td>pamplie</td>\n",
              "      <td>Beurre extra-fin doux</td>\n",
              "      <td>449</td>\n",
              "      <td>BEURRES</td>\n",
              "      <td>BEURRE OEUFS LAIT</td>\n",
              "      <td>CREMERIE</td>\n",
              "      <td>FLS</td>\n",
              "    </tr>\n",
              "    <tr>\n",
              "      <th>...</th>\n",
              "      <td>...</td>\n",
              "      <td>...</td>\n",
              "      <td>...</td>\n",
              "      <td>...</td>\n",
              "      <td>...</td>\n",
              "      <td>...</td>\n",
              "      <td>...</td>\n",
              "      <td>...</td>\n",
              "    </tr>\n",
              "    <tr>\n",
              "      <th>153338</th>\n",
              "      <td>26520737</td>\n",
              "      <td>sun</td>\n",
              "      <td>Noisettes décortiquées Bio LES FADAS</td>\n",
              "      <td>414</td>\n",
              "      <td>GRAINES SALEES</td>\n",
              "      <td>PRODUITS APERITIFS</td>\n",
              "      <td>EPICERIE SALEE</td>\n",
              "      <td>EPICERIE</td>\n",
              "    </tr>\n",
              "    <tr>\n",
              "      <th>153339</th>\n",
              "      <td>26520740</td>\n",
              "      <td>refs.sans marque</td>\n",
              "      <td>Bière blondes Daytime LAGUNITAS</td>\n",
              "      <td>827</td>\n",
              "      <td>BIERES DE SPECIALITE</td>\n",
              "      <td>BIERES ET PANACHES</td>\n",
              "      <td>BIERES ET CIDRES</td>\n",
              "      <td>LIQUIDES</td>\n",
              "    </tr>\n",
              "    <tr>\n",
              "      <th>153340</th>\n",
              "      <td>26520751</td>\n",
              "      <td>juvamine</td>\n",
              "      <td>Complément alimentaire vitamine C 500 LABORATO...</td>\n",
              "      <td>361</td>\n",
              "      <td>PRODUITS SANTE FORME</td>\n",
              "      <td>PARAPHARMACIE</td>\n",
              "      <td>HYGIENE</td>\n",
              "      <td>DPH</td>\n",
              "    </tr>\n",
              "    <tr>\n",
              "      <th>153341</th>\n",
              "      <td>26520752</td>\n",
              "      <td>juvamine</td>\n",
              "      <td>Complément alimentaire vitamine C &amp; magnésium ...</td>\n",
              "      <td>361</td>\n",
              "      <td>PRODUITS SANTE FORME</td>\n",
              "      <td>PARAPHARMACIE</td>\n",
              "      <td>HYGIENE</td>\n",
              "      <td>DPH</td>\n",
              "    </tr>\n",
              "    <tr>\n",
              "      <th>153342</th>\n",
              "      <td>26520758</td>\n",
              "      <td>seeberger</td>\n",
              "      <td>Chips de bananes SEEBERGER</td>\n",
              "      <td>413</td>\n",
              "      <td>EXTRUDES ET TUILES</td>\n",
              "      <td>PRODUITS APERITIFS</td>\n",
              "      <td>EPICERIE SALEE</td>\n",
              "      <td>EPICERIE</td>\n",
              "    </tr>\n",
              "  </tbody>\n",
              "</table>\n",
              "<p>153343 rows × 8 columns</p>\n",
              "</div>\n",
              "      <button class=\"colab-df-convert\" onclick=\"convertToInteractive('df-6af8ffaf-f4ea-4e7c-b3f2-ebdbd5d5b8b0')\"\n",
              "              title=\"Convert this dataframe to an interactive table.\"\n",
              "              style=\"display:none;\">\n",
              "        \n",
              "  <svg xmlns=\"http://www.w3.org/2000/svg\" height=\"24px\"viewBox=\"0 0 24 24\"\n",
              "       width=\"24px\">\n",
              "    <path d=\"M0 0h24v24H0V0z\" fill=\"none\"/>\n",
              "    <path d=\"M18.56 5.44l.94 2.06.94-2.06 2.06-.94-2.06-.94-.94-2.06-.94 2.06-2.06.94zm-11 1L8.5 8.5l.94-2.06 2.06-.94-2.06-.94L8.5 2.5l-.94 2.06-2.06.94zm10 10l.94 2.06.94-2.06 2.06-.94-2.06-.94-.94-2.06-.94 2.06-2.06.94z\"/><path d=\"M17.41 7.96l-1.37-1.37c-.4-.4-.92-.59-1.43-.59-.52 0-1.04.2-1.43.59L10.3 9.45l-7.72 7.72c-.78.78-.78 2.05 0 2.83L4 21.41c.39.39.9.59 1.41.59.51 0 1.02-.2 1.41-.59l7.78-7.78 2.81-2.81c.8-.78.8-2.07 0-2.86zM5.41 20L4 18.59l7.72-7.72 1.47 1.35L5.41 20z\"/>\n",
              "  </svg>\n",
              "      </button>\n",
              "      \n",
              "  <style>\n",
              "    .colab-df-container {\n",
              "      display:flex;\n",
              "      flex-wrap:wrap;\n",
              "      gap: 12px;\n",
              "    }\n",
              "\n",
              "    .colab-df-convert {\n",
              "      background-color: #E8F0FE;\n",
              "      border: none;\n",
              "      border-radius: 50%;\n",
              "      cursor: pointer;\n",
              "      display: none;\n",
              "      fill: #1967D2;\n",
              "      height: 32px;\n",
              "      padding: 0 0 0 0;\n",
              "      width: 32px;\n",
              "    }\n",
              "\n",
              "    .colab-df-convert:hover {\n",
              "      background-color: #E2EBFA;\n",
              "      box-shadow: 0px 1px 2px rgba(60, 64, 67, 0.3), 0px 1px 3px 1px rgba(60, 64, 67, 0.15);\n",
              "      fill: #174EA6;\n",
              "    }\n",
              "\n",
              "    [theme=dark] .colab-df-convert {\n",
              "      background-color: #3B4455;\n",
              "      fill: #D2E3FC;\n",
              "    }\n",
              "\n",
              "    [theme=dark] .colab-df-convert:hover {\n",
              "      background-color: #434B5C;\n",
              "      box-shadow: 0px 1px 3px 1px rgba(0, 0, 0, 0.15);\n",
              "      filter: drop-shadow(0px 1px 2px rgba(0, 0, 0, 0.3));\n",
              "      fill: #FFFFFF;\n",
              "    }\n",
              "  </style>\n",
              "\n",
              "      <script>\n",
              "        const buttonEl =\n",
              "          document.querySelector('#df-6af8ffaf-f4ea-4e7c-b3f2-ebdbd5d5b8b0 button.colab-df-convert');\n",
              "        buttonEl.style.display =\n",
              "          google.colab.kernel.accessAllowed ? 'block' : 'none';\n",
              "\n",
              "        async function convertToInteractive(key) {\n",
              "          const element = document.querySelector('#df-6af8ffaf-f4ea-4e7c-b3f2-ebdbd5d5b8b0');\n",
              "          const dataTable =\n",
              "            await google.colab.kernel.invokeFunction('convertToInteractive',\n",
              "                                                     [key], {});\n",
              "          if (!dataTable) return;\n",
              "\n",
              "          const docLinkHtml = 'Like what you see? Visit the ' +\n",
              "            '<a target=\"_blank\" href=https://colab.research.google.com/notebooks/data_table.ipynb>data table notebook</a>'\n",
              "            + ' to learn more about interactive tables.';\n",
              "          element.innerHTML = '';\n",
              "          dataTable['output_type'] = 'display_data';\n",
              "          await google.colab.output.renderOutput(dataTable, element);\n",
              "          const docLink = document.createElement('div');\n",
              "          docLink.innerHTML = docLinkHtml;\n",
              "          element.appendChild(docLink);\n",
              "        }\n",
              "      </script>\n",
              "    </div>\n",
              "  </div>\n",
              "  "
            ]
          },
          "metadata": {},
          "execution_count": 4
        }
      ]
    },
    {
      "cell_type": "markdown",
      "source": [
        "## Data Understanding\n",
        "The first step in any AI project is understanding the Data. So that’s what we’ll aim to do here."
      ],
      "metadata": {
        "id": "IgAs5JP9-iaR"
      }
    },
    {
      "cell_type": "code",
      "source": [
        "print(\"Shape of data=>\",data.shape)"
      ],
      "metadata": {
        "colab": {
          "base_uri": "https://localhost:8080/"
        },
        "id": "0f3uNDnl5480",
        "outputId": "c9c75143-7e9f-4a23-f0e3-cb01d7d2a945"
      },
      "execution_count": 5,
      "outputs": [
        {
          "output_type": "stream",
          "name": "stdout",
          "text": [
            "Shape of data=> (153343, 8)\n"
          ]
        }
      ]
    },
    {
      "cell_type": "markdown",
      "source": [
        "The dataset has about 153343 rows, each containing names, brands, categories and other information for each product. Our objective is to use this data, explore it, and generate insights from it."
      ],
      "metadata": {
        "id": "L-5GCBiZ_KfB"
      }
    },
    {
      "cell_type": "markdown",
      "source": [
        "Let’s see if there are any null values present in our dataset:\n",
        "\n",
        "\n"
      ],
      "metadata": {
        "id": "3L95oPkpA3P8"
      }
    },
    {
      "cell_type": "code",
      "source": [
        "data.isnull().sum()\n"
      ],
      "metadata": {
        "colab": {
          "base_uri": "https://localhost:8080/"
        },
        "id": "GKWpAmc9_E3S",
        "outputId": "5cf79224-7d35-4383-fafe-0e1e156c4575"
      },
      "execution_count": 6,
      "outputs": [
        {
          "output_type": "execute_result",
          "data": {
            "text/plain": [
              "product_id                          0\n",
              "brand                            1038\n",
              "name                                0\n",
              "category_id                         0\n",
              "category                            0\n",
              "parent_category                     0\n",
              "parent_parent_category              0\n",
              "parent_parent_parent_category       0\n",
              "dtype: int64"
            ]
          },
          "metadata": {},
          "execution_count": 6
        }
      ]
    },
    {
      "cell_type": "markdown",
      "source": [
        "There are a few null values in the dataset. So, let’s drop these null values and proceed further:\n",
        "\n"
      ],
      "metadata": {
        "id": "zm2Z6W2MBASA"
      }
    },
    {
      "cell_type": "code",
      "source": [
        "data.dropna(inplace=True)\n",
        "data.isnull().sum()"
      ],
      "metadata": {
        "colab": {
          "base_uri": "https://localhost:8080/"
        },
        "id": "NnqQcJ1FA8JW",
        "outputId": "e16dd6f4-21d7-4897-b75e-46b9fc426d1a"
      },
      "execution_count": 7,
      "outputs": [
        {
          "output_type": "execute_result",
          "data": {
            "text/plain": [
              "product_id                       0\n",
              "brand                            0\n",
              "name                             0\n",
              "category_id                      0\n",
              "category                         0\n",
              "parent_category                  0\n",
              "parent_parent_category           0\n",
              "parent_parent_parent_category    0\n",
              "dtype: int64"
            ]
          },
          "metadata": {},
          "execution_count": 7
        }
      ]
    },
    {
      "cell_type": "code",
      "source": [
        "print('Number of products =>',len(data['name'].unique()))\n"
      ],
      "metadata": {
        "colab": {
          "base_uri": "https://localhost:8080/"
        },
        "id": "48Yd_lMkBFAc",
        "outputId": "a94eb6f3-07de-43f3-dccd-94822eba6995"
      },
      "execution_count": 8,
      "outputs": [
        {
          "output_type": "stream",
          "name": "stdout",
          "text": [
            "Number of products => 97707\n"
          ]
        }
      ]
    },
    {
      "cell_type": "markdown",
      "source": [
        "## Cleaning Text Data"
      ],
      "metadata": {
        "id": "R8tP2btLC9mf"
      }
    },
    {
      "cell_type": "markdown",
      "source": [
        "Generally, text data contains a lot of noise either in the form of symbols or in the form of punctuations and stopwords. Therefore, it becomes necessary to clean the text, not just for making it more understandable but also for getting better insights."
      ],
      "metadata": {
        "id": "7g0Laj9nDCCd"
      }
    },
    {
      "cell_type": "markdown",
      "source": [
        "1- Lowercase the text\n"
      ],
      "metadata": {
        "id": "kTkhV1ICD73F"
      }
    },
    {
      "cell_type": "code",
      "source": [
        "data['name']=data['name'].apply(lambda x: x.lower())\n",
        "data['category']=data['category'].apply(lambda x: x.lower())\n",
        "data['parent_category']=data['parent_category'].apply(lambda x: x.lower())\n",
        "data['parent_parent_category']=data['parent_parent_category'].apply(lambda x: x.lower())\n",
        "data['parent_parent_parent_category']=data['parent_parent_parent_category'].apply(lambda x: x.lower())"
      ],
      "metadata": {
        "id": "Z8nMZON_DMPJ"
      },
      "execution_count": 9,
      "outputs": []
    },
    {
      "cell_type": "markdown",
      "source": [
        "2- Remove digits and words containing digits\n",
        "\n",
        "I am doing this because digits and words containing digits do not give much importance to the main words."
      ],
      "metadata": {
        "id": "ACQpUEQ_Eyxh"
      }
    },
    {
      "cell_type": "code",
      "source": [
        "data['name']=data['name'].apply(lambda x: re.sub('\\w*\\d\\w*','', x))"
      ],
      "metadata": {
        "id": "35_Uxu45EaRs"
      },
      "execution_count": 10,
      "outputs": []
    },
    {
      "cell_type": "markdown",
      "source": [
        "3- Remove Punctuations"
      ],
      "metadata": {
        "id": "PHPxABOUGAOI"
      }
    },
    {
      "cell_type": "code",
      "source": [
        "data['name']=data['name'].apply(lambda x: re.sub('[%s]' % re.escape(string.punctuation), '', x))"
      ],
      "metadata": {
        "id": "LPHKGjeEF7RX"
      },
      "execution_count": 11,
      "outputs": []
    },
    {
      "cell_type": "markdown",
      "source": [
        "4- Remove extra spaces"
      ],
      "metadata": {
        "id": "etDWC4w8Gbs4"
      }
    },
    {
      "cell_type": "code",
      "source": [
        "data['name']=data['name'].apply(lambda x: re.sub(' +',' ',x))"
      ],
      "metadata": {
        "id": "WNSOBzhqGUZ8"
      },
      "execution_count": 12,
      "outputs": []
    },
    {
      "cell_type": "code",
      "source": [
        "data['name'].unique()"
      ],
      "metadata": {
        "colab": {
          "base_uri": "https://localhost:8080/"
        },
        "id": "eJfxoCKfGi8O",
        "outputId": "41643303-b5a1-4697-8b02-742328a6a0aa"
      },
      "execution_count": 13,
      "outputs": [
        {
          "output_type": "execute_result",
          "data": {
            "text/plain": [
              "array(['boisson aux fruits multivitaminé teisseire', 'chabrol',\n",
              "       'chabrol igp', ..., 'bière blondes daytime lagunitas',\n",
              "       'complément alimentaire vitamine c laboratoires juvamine',\n",
              "       'complément alimentaire vitamine c magnésium laboratoires juvamine'],\n",
              "      dtype=object)"
            ]
          },
          "metadata": {},
          "execution_count": 13
        }
      ]
    },
    {
      "cell_type": "code",
      "source": [
        "for index,text in enumerate(data['name'][10:20]):\n",
        "  print('name %d:\\n'%(index+1),text)"
      ],
      "metadata": {
        "colab": {
          "base_uri": "https://localhost:8080/"
        },
        "id": "hFku8uecGmpy",
        "outputId": "cf4c37e1-ebd3-4b17-91dc-63bcbc753f0b"
      },
      "execution_count": 14,
      "outputs": [
        {
          "output_type": "stream",
          "name": "stdout",
          "text": [
            "name 1:\n",
            " champagne rosé hubert de claminger\n",
            "name 2:\n",
            " champagne rosé hubert de claminger\n",
            "name 3:\n",
            " champagne rosé hubert de claminger\n",
            "name 4:\n",
            " salade piémontaise\n",
            "name 5:\n",
            " salade piémontaise\n",
            "name 6:\n",
            " peigne antistatic glamour studio\n",
            "name 7:\n",
            " peigne antistatic glamour studio\n",
            "name 8:\n",
            " peigne antistatic glamour studio\n",
            "name 9:\n",
            " peigne antistatic glamour studio\n",
            "name 10:\n",
            " fromage blanc moulé à la louche\n"
          ]
        }
      ]
    },
    {
      "cell_type": "markdown",
      "source": [
        "5- Stopwords Removal & Lemmatization\n",
        "\n",
        "We’ll use SpaCy for the removal of stopwords and lemmatization. It is a library for advanced Natural Language Processing in Python and Cython."
      ],
      "metadata": {
        "id": "hnEY3UnVKS8W"
      }
    },
    {
      "cell_type": "code",
      "source": [
        "# Importing spacy\n",
        "!python3 -m spacy download fr_core_news_sm\n",
        "import spacy\n",
        "from spacy.lang.fr.examples import sentences \n",
        "\n",
        "# Loading model\n",
        "nlp = spacy.load('fr_core_news_sm',disable=['parser', 'ner'])\n",
        "\n",
        "# Lemmatization with stopwords removal\n",
        "data['name']=data['name'].apply(lambda x: ' '.join([token.lemma_ for token in list(nlp(x)) if (token.is_stop==False)]))"
      ],
      "metadata": {
        "colab": {
          "base_uri": "https://localhost:8080/"
        },
        "id": "n4A4CHg_GtaI",
        "outputId": "92de6678-4dcf-4155-8690-893e366af3eb"
      },
      "execution_count": 15,
      "outputs": [
        {
          "output_type": "stream",
          "name": "stdout",
          "text": [
            "2023-03-22 22:59:32.596027: I tensorflow/core/platform/cpu_feature_guard.cc:193] This TensorFlow binary is optimized with oneAPI Deep Neural Network Library (oneDNN) to use the following CPU instructions in performance-critical operations:  AVX2 AVX512F FMA\n",
            "To enable them in other operations, rebuild TensorFlow with the appropriate compiler flags.\n",
            "2023-03-22 22:59:33.480546: W tensorflow/compiler/xla/stream_executor/platform/default/dso_loader.cc:64] Could not load dynamic library 'libnvinfer.so.7'; dlerror: libnvinfer.so.7: cannot open shared object file: No such file or directory; LD_LIBRARY_PATH: /usr/lib64-nvidia\n",
            "2023-03-22 22:59:33.480653: W tensorflow/compiler/xla/stream_executor/platform/default/dso_loader.cc:64] Could not load dynamic library 'libnvinfer_plugin.so.7'; dlerror: libnvinfer_plugin.so.7: cannot open shared object file: No such file or directory; LD_LIBRARY_PATH: /usr/lib64-nvidia\n",
            "2023-03-22 22:59:33.480676: W tensorflow/compiler/tf2tensorrt/utils/py_utils.cc:38] TF-TRT Warning: Cannot dlopen some TensorRT libraries. If you would like to use Nvidia GPU with TensorRT, please make sure the missing libraries mentioned above are installed properly.\n",
            "Looking in indexes: https://pypi.org/simple, https://us-python.pkg.dev/colab-wheels/public/simple/\n",
            "Collecting fr-core-news-sm==3.5.0\n",
            "  Downloading https://github.com/explosion/spacy-models/releases/download/fr_core_news_sm-3.5.0/fr_core_news_sm-3.5.0-py3-none-any.whl (16.3 MB)\n",
            "\u001b[2K     \u001b[90m━━━━━━━━━━━━━━━━━━━━━━━━━━━━━━━━━━━━━━━━\u001b[0m \u001b[32m16.3/16.3 MB\u001b[0m \u001b[31m16.3 MB/s\u001b[0m eta \u001b[36m0:00:00\u001b[0m\n",
            "\u001b[?25hRequirement already satisfied: spacy<3.6.0,>=3.5.0 in /usr/local/lib/python3.9/dist-packages (from fr-core-news-sm==3.5.0) (3.5.1)\n",
            "Requirement already satisfied: numpy>=1.15.0 in /usr/local/lib/python3.9/dist-packages (from spacy<3.6.0,>=3.5.0->fr-core-news-sm==3.5.0) (1.22.4)\n",
            "Requirement already satisfied: langcodes<4.0.0,>=3.2.0 in /usr/local/lib/python3.9/dist-packages (from spacy<3.6.0,>=3.5.0->fr-core-news-sm==3.5.0) (3.3.0)\n",
            "Requirement already satisfied: setuptools in /usr/local/lib/python3.9/dist-packages (from spacy<3.6.0,>=3.5.0->fr-core-news-sm==3.5.0) (67.6.0)\n",
            "Requirement already satisfied: preshed<3.1.0,>=3.0.2 in /usr/local/lib/python3.9/dist-packages (from spacy<3.6.0,>=3.5.0->fr-core-news-sm==3.5.0) (3.0.8)\n",
            "Requirement already satisfied: pydantic!=1.8,!=1.8.1,<1.11.0,>=1.7.4 in /usr/local/lib/python3.9/dist-packages (from spacy<3.6.0,>=3.5.0->fr-core-news-sm==3.5.0) (1.10.6)\n",
            "Requirement already satisfied: cymem<2.1.0,>=2.0.2 in /usr/local/lib/python3.9/dist-packages (from spacy<3.6.0,>=3.5.0->fr-core-news-sm==3.5.0) (2.0.7)\n",
            "Requirement already satisfied: requests<3.0.0,>=2.13.0 in /usr/local/lib/python3.9/dist-packages (from spacy<3.6.0,>=3.5.0->fr-core-news-sm==3.5.0) (2.27.1)\n",
            "Requirement already satisfied: pathy>=0.10.0 in /usr/local/lib/python3.9/dist-packages (from spacy<3.6.0,>=3.5.0->fr-core-news-sm==3.5.0) (0.10.1)\n",
            "Requirement already satisfied: thinc<8.2.0,>=8.1.8 in /usr/local/lib/python3.9/dist-packages (from spacy<3.6.0,>=3.5.0->fr-core-news-sm==3.5.0) (8.1.9)\n",
            "Requirement already satisfied: spacy-loggers<2.0.0,>=1.0.0 in /usr/local/lib/python3.9/dist-packages (from spacy<3.6.0,>=3.5.0->fr-core-news-sm==3.5.0) (1.0.4)\n",
            "Requirement already satisfied: srsly<3.0.0,>=2.4.3 in /usr/local/lib/python3.9/dist-packages (from spacy<3.6.0,>=3.5.0->fr-core-news-sm==3.5.0) (2.4.6)\n",
            "Requirement already satisfied: murmurhash<1.1.0,>=0.28.0 in /usr/local/lib/python3.9/dist-packages (from spacy<3.6.0,>=3.5.0->fr-core-news-sm==3.5.0) (1.0.9)\n",
            "Requirement already satisfied: jinja2 in /usr/local/lib/python3.9/dist-packages (from spacy<3.6.0,>=3.5.0->fr-core-news-sm==3.5.0) (3.1.2)\n",
            "Requirement already satisfied: typer<0.8.0,>=0.3.0 in /usr/local/lib/python3.9/dist-packages (from spacy<3.6.0,>=3.5.0->fr-core-news-sm==3.5.0) (0.7.0)\n",
            "Requirement already satisfied: catalogue<2.1.0,>=2.0.6 in /usr/local/lib/python3.9/dist-packages (from spacy<3.6.0,>=3.5.0->fr-core-news-sm==3.5.0) (2.0.8)\n",
            "Requirement already satisfied: spacy-legacy<3.1.0,>=3.0.11 in /usr/local/lib/python3.9/dist-packages (from spacy<3.6.0,>=3.5.0->fr-core-news-sm==3.5.0) (3.0.12)\n",
            "Requirement already satisfied: wasabi<1.2.0,>=0.9.1 in /usr/local/lib/python3.9/dist-packages (from spacy<3.6.0,>=3.5.0->fr-core-news-sm==3.5.0) (1.1.1)\n",
            "Requirement already satisfied: packaging>=20.0 in /usr/local/lib/python3.9/dist-packages (from spacy<3.6.0,>=3.5.0->fr-core-news-sm==3.5.0) (23.0)\n",
            "Requirement already satisfied: tqdm<5.0.0,>=4.38.0 in /usr/local/lib/python3.9/dist-packages (from spacy<3.6.0,>=3.5.0->fr-core-news-sm==3.5.0) (4.65.0)\n",
            "Requirement already satisfied: smart-open<7.0.0,>=5.2.1 in /usr/local/lib/python3.9/dist-packages (from spacy<3.6.0,>=3.5.0->fr-core-news-sm==3.5.0) (6.3.0)\n",
            "Requirement already satisfied: typing-extensions>=4.2.0 in /usr/local/lib/python3.9/dist-packages (from pydantic!=1.8,!=1.8.1,<1.11.0,>=1.7.4->spacy<3.6.0,>=3.5.0->fr-core-news-sm==3.5.0) (4.5.0)\n",
            "Requirement already satisfied: urllib3<1.27,>=1.21.1 in /usr/local/lib/python3.9/dist-packages (from requests<3.0.0,>=2.13.0->spacy<3.6.0,>=3.5.0->fr-core-news-sm==3.5.0) (1.26.15)\n",
            "Requirement already satisfied: idna<4,>=2.5 in /usr/local/lib/python3.9/dist-packages (from requests<3.0.0,>=2.13.0->spacy<3.6.0,>=3.5.0->fr-core-news-sm==3.5.0) (3.4)\n",
            "Requirement already satisfied: certifi>=2017.4.17 in /usr/local/lib/python3.9/dist-packages (from requests<3.0.0,>=2.13.0->spacy<3.6.0,>=3.5.0->fr-core-news-sm==3.5.0) (2022.12.7)\n",
            "Requirement already satisfied: charset-normalizer~=2.0.0 in /usr/local/lib/python3.9/dist-packages (from requests<3.0.0,>=2.13.0->spacy<3.6.0,>=3.5.0->fr-core-news-sm==3.5.0) (2.0.12)\n",
            "Requirement already satisfied: confection<1.0.0,>=0.0.1 in /usr/local/lib/python3.9/dist-packages (from thinc<8.2.0,>=8.1.8->spacy<3.6.0,>=3.5.0->fr-core-news-sm==3.5.0) (0.0.4)\n",
            "Requirement already satisfied: blis<0.8.0,>=0.7.8 in /usr/local/lib/python3.9/dist-packages (from thinc<8.2.0,>=8.1.8->spacy<3.6.0,>=3.5.0->fr-core-news-sm==3.5.0) (0.7.9)\n",
            "Requirement already satisfied: click<9.0.0,>=7.1.1 in /usr/local/lib/python3.9/dist-packages (from typer<0.8.0,>=0.3.0->spacy<3.6.0,>=3.5.0->fr-core-news-sm==3.5.0) (8.1.3)\n",
            "Requirement already satisfied: MarkupSafe>=2.0 in /usr/local/lib/python3.9/dist-packages (from jinja2->spacy<3.6.0,>=3.5.0->fr-core-news-sm==3.5.0) (2.1.2)\n",
            "Installing collected packages: fr-core-news-sm\n",
            "Successfully installed fr-core-news-sm-3.5.0\n",
            "\u001b[38;5;2m✔ Download and installation successful\u001b[0m\n",
            "You can now load the package via spacy.load('fr_core_news_sm')\n"
          ]
        }
      ]
    },
    {
      "cell_type": "code",
      "source": [
        "for index,text in enumerate(data['name'][10:20]):\n",
        "  print('name %d:\\n'%(index+1),text)"
      ],
      "metadata": {
        "colab": {
          "base_uri": "https://localhost:8080/"
        },
        "id": "jUPBvMD3KwSd",
        "outputId": "a7e1a399-8978-440e-a129-f3f418425ea1"
      },
      "execution_count": 16,
      "outputs": [
        {
          "output_type": "stream",
          "name": "stdout",
          "text": [
            "name 1:\n",
            " champagne roser hubert claminger\n",
            "name 2:\n",
            " champagne roser hubert claminger\n",
            "name 3:\n",
            " champagne roser hubert claminger\n",
            "name 4:\n",
            " salad piémontais\n",
            "name 5:\n",
            " salad piémontais\n",
            "name 6:\n",
            " peindre antistatic glamour studio\n",
            "name 7:\n",
            " peindre antistatic glamour studio\n",
            "name 8:\n",
            " peindre antistatic glamour studio\n",
            "name 9:\n",
            " peindre antistatic glamour studio\n",
            "name 10:\n",
            " fromage blanc mouler louche\n"
          ]
        }
      ]
    },
    {
      "cell_type": "markdown",
      "source": [
        "**---> save cleaned Data**"
      ],
      "metadata": {
        "id": "RCYLC9sH4HKP"
      }
    },
    {
      "cell_type": "code",
      "source": [
        "data.to_csv('cleanData.csv',index=False)"
      ],
      "metadata": {
        "id": "wuJwog_14LPL"
      },
      "execution_count": null,
      "outputs": []
    },
    {
      "cell_type": "markdown",
      "source": [
        "## Data exploration"
      ],
      "metadata": {
        "id": "mwSL5UxgjNfH"
      }
    },
    {
      "cell_type": "code",
      "source": [
        "# Plot the number of products by 10 most frequent brand\n",
        "brands = data[\"brand\"].value_counts().head(10)\n",
        "plt.figure(figsize=(8,10))\n",
        "plt.bar(brands.index, brands.values)\n",
        "plt.xticks(rotation=90)\n",
        "plt.title(\"Number of products by brand\")\n",
        "plt.xlabel(\"Brand\")\n",
        "plt.ylabel(\"Number of products\")\n",
        "plt.show()\n"
      ],
      "metadata": {
        "colab": {
          "base_uri": "https://localhost:8080/",
          "height": 698
        },
        "id": "Yu4nXE4PjQp9",
        "outputId": "3384a6a2-f0dc-4408-ace5-a65e2df741ce"
      },
      "execution_count": 29,
      "outputs": [
        {
          "output_type": "display_data",
          "data": {
            "text/plain": [
              "<Figure size 576x720 with 1 Axes>"
            ],
            "image/png": "[encoded data removed]"
          },
          "metadata": {
            "needs_background": "light"
          }
        }
      ]
    },
    {
      "cell_type": "code",
      "source": [
        "# Plot the number of products by 10 most frequent category\n",
        "categories = data[\"category\"].value_counts().head(10)\n",
        "plt.figure(figsize=(8,10))\n",
        "plt.bar(categories.index, categories.values)\n",
        "plt.xticks(rotation=90)\n",
        "plt.title(\"Number of products by category\")\n",
        "plt.xlabel(\"Category\")\n",
        "plt.ylabel(\"Number of products\")\n",
        "plt.show()\n"
      ],
      "metadata": {
        "colab": {
          "base_uri": "https://localhost:8080/",
          "height": 717
        },
        "id": "9CGFhJmZlnFY",
        "outputId": "f687c6de-3e99-4b0e-ea44-f6419e26e2fa"
      },
      "execution_count": 30,
      "outputs": [
        {
          "output_type": "display_data",
          "data": {
            "text/plain": [
              "<Figure size 576x720 with 1 Axes>"
            ],
            "image/png": "[encoded data removed]"
          },
          "metadata": {
            "needs_background": "light"
          }
        }
      ]
    },
    {
      "cell_type": "code",
      "source": [
        "# Plot the top 10 most frequent product names\n",
        "product_names = data[\"name\"].value_counts().head(10)\n",
        "plt.bar(product_names.index, product_names.values)\n",
        "plt.title(\"Top 10 most frequent product names\")\n",
        "plt.xlabel(\"Product name\")\n",
        "plt.ylabel(\"Frequency\")\n",
        "plt.xticks(rotation=90)\n",
        "plt.show()"
      ],
      "metadata": {
        "colab": {
          "base_uri": "https://localhost:8080/",
          "height": 516
        },
        "id": "LocktWyoloYg",
        "outputId": "73526563-98fa-41e8-e5ec-c1878d313c56"
      },
      "execution_count": 22,
      "outputs": [
        {
          "output_type": "display_data",
          "data": {
            "text/plain": [
              "<Figure size 432x288 with 1 Axes>"
            ],
            "image/png": "[encoded data removed]"
          },
          "metadata": {
            "needs_background": "light"
          }
        }
      ]
    },
    {
      "cell_type": "code",
      "source": [
        "# Create a bar plot of the number of products by brand and category\n",
        "brand_category_counts = data.groupby([\"brand\", \"category\"]).size().reset_index(name=\"count\")\n",
        "sns.barplot(data=brand_category_counts, x=\"brand\", y=\"count\", hue=\"category\")\n",
        "plt.title(\"Number of products by brand and category\")\n",
        "plt.xlabel(\"Brand\")\n",
        "plt.ylabel(\"Number of products\")\n",
        "plt.xticks(rotation=90)\n",
        "plt.show()"
      ],
      "metadata": {
        "id": "3pOQUaYanxgi"
      },
      "execution_count": null,
      "outputs": []
    },
    {
      "cell_type": "markdown",
      "source": [
        "# Semantic Similarity Scoring System"
      ],
      "metadata": {
        "id": "pwEJPQfRsKrV"
      }
    },
    {
      "cell_type": "code",
      "source": [
        "import pandas as pd\n",
        "import numpy as np\n",
        "from gensim.models import Word2Vec\n",
        "from nltk.tokenize import word_tokenize\n",
        "from scipy import spatial\n",
        "import nltk\n",
        "nltk.download('punkt')"
      ],
      "metadata": {
        "id": "Ypyo_SPSsRRd"
      },
      "execution_count": null,
      "outputs": []
    },
    {
      "cell_type": "code",
      "source": [
        "def compute_similarity(model, product_name1, product_name2):\n",
        "    \"\"\"\n",
        "    Computes the cosine similarity between the embeddings of two product names using a pre-trained Word2Vec model.\n",
        "    \"\"\"\n",
        "    # Tokenize the product names\n",
        "    tokens1 = word_tokenize(product_name1)\n",
        "    tokens2 = word_tokenize(product_name2)\n",
        "    \n",
        "    # Compute the embeddings for each product name\n",
        "    embeddings1 = []\n",
        "    for token in tokens1:\n",
        "        if token in model.wv:\n",
        "            embeddings1.append(model.wv[token])\n",
        "    if not embeddings1:\n",
        "        return 0.0\n",
        "    embeddings1 = np.mean(embeddings1, axis=0)\n",
        "    \n",
        "    embeddings2 = []\n",
        "    for token in tokens2:\n",
        "        if token in model.wv:\n",
        "            embeddings2.append(model.wv[token])\n",
        "    if not embeddings2:\n",
        "        return 0.0\n",
        "    embeddings2 = np.mean(embeddings2, axis=0)\n",
        "    \n",
        "    # Compute the cosine similarity between the embeddings\n",
        "    similarity = 1 - spatial.distance.cosine(embeddings1, embeddings2)\n",
        "    \n",
        "    return similarity"
      ],
      "metadata": {
        "id": "BwXKROK7sRsS"
      },
      "execution_count": 34,
      "outputs": []
    },
    {
      "cell_type": "code",
      "source": [
        "def get_similar_products(product_name, n):\n",
        "    # Compute the semantic similarity between the given product name and all other product names\n",
        "    similarities = []\n",
        "    for name in data['name']:\n",
        "        similarity = compute_similarity(model, product_name, name)\n",
        "        similarities.append(similarity)\n",
        "    \n",
        "    # Sort the products by semantic similarity\n",
        "    data['similarity'] = similarities\n",
        "    df_sorted = data.sort_values(by='similarity', ascending=False)\n",
        "    \n",
        "    # Get the n most and least similar products\n",
        "    most_similar = df_sorted.head(n)[['name', 'brand', 'category', 'similarity']]\n",
        "    least_similar = df_sorted.tail(n)[['name', 'brand', 'category', 'similarity']]\n",
        "    \n",
        "    return most_similar, least_similar"
      ],
      "metadata": {
        "id": "rZjfiWi4sUt-"
      },
      "execution_count": 42,
      "outputs": []
    },
    {
      "cell_type": "code",
      "source": [
        "# Tokenize the product names\n",
        "tokenized_names = data['name'].apply(word_tokenize)\n",
        "\n",
        "# Train a Word2Vec model on the tokenized product names\n",
        "model = Word2Vec(tokenized_names,min_count=1, workers=4)"
      ],
      "metadata": {
        "id": "5_cLSdAxsWr4"
      },
      "execution_count": 40,
      "outputs": []
    },
    {
      "cell_type": "code",
      "source": [
        "# Test the function with a sample product name and n\n",
        "# Importing spacy\n",
        "import spacy\n",
        "from spacy.lang.fr.examples import sentences \n",
        "\n",
        "# Loading model\n",
        "nlp = spacy.load('fr_core_news_sm',disable=['parser', 'ner'])\n",
        "\n",
        "#params\n",
        "product_name = 'Boisson aux fruits multivitaminé Teisseire'\n",
        "n = 5\n",
        "\n",
        "#cleaning\n",
        "product_name=product_name.lower()\n",
        "product_name=re.sub('\\w*\\d\\w*','', product_name)\n",
        "product_name=re.sub('[%s]' % re.escape(string.punctuation), '', product_name)\n",
        "product_name=re.sub(' +',' ',product_name)\n",
        "# Lemmatization with stopwords removal\n",
        "product_name = ' '.join([token.lemma_ for token in list(nlp(product_name)) if (token.is_stop==False)])\n",
        "\n",
        "most_similar, least_similar = get_similar_products(product_name, n)\n",
        "\n",
        "# Output the results\n",
        "print(f'The {n} most similar products to \"{product_name}\" are:')\n",
        "print(most_similar)\n",
        "print()\n",
        "print(f'The {n} least similar products to \"{product_name}\" are:')\n",
        "print(least_similar)"
      ],
      "metadata": {
        "colab": {
          "base_uri": "https://localhost:8080/"
        },
        "id": "y2hnnv_itAbf",
        "outputId": "7cc878d7-6d1e-4f84-f455-9ab5882f486f"
      },
      "execution_count": 99,
      "outputs": [
        {
          "output_type": "stream",
          "name": "stdout",
          "text": [
            "The 5 most similar products to \"boisson fruit multivitaminer teisseir\" are:\n",
            "                                         name        brand  \\\n",
            "0       boisson fruit multivitaminer teisseir    teisseire   \n",
            "66834           boisson fruit pommepoir oasis        oasis   \n",
            "146314          boisson fruit pommepoir oasis        oasis   \n",
            "66833           boisson fruit pommepoir oasis        oasis   \n",
            "35164            boisson grenadin fruit shoot  fruit shoot   \n",
            "\n",
            "                          category  similarity  \n",
            "0       boissons aux fruits plates    1.000000  \n",
            "66834   boissons aux fruits plates    0.997166  \n",
            "146314  boissons aux fruits plates    0.997166  \n",
            "66833   boissons aux fruits plates    0.997166  \n",
            "35164   boissons aux fruits plates    0.996542  \n",
            "\n",
            "The 5 least similar products to \"boisson fruit multivitaminer teisseir\" are:\n",
            "                                     name             brand  \\\n",
            "105382    pinceau kabuki glamour institut  glamour institut   \n",
            "105383    pinceau kabuki glamour institut  glamour institut   \n",
            "105384    pinceau kabuki glamour institut     glamour paris   \n",
            "105385    pinceau kabuki glamour institut     glamour paris   \n",
            "148817  pinceau anticern glamour institut  refs.sans marque   \n",
            "\n",
            "                       category  similarity  \n",
            "105382  accessoires de toilette   -0.118601  \n",
            "105383  accessoires de toilette   -0.118601  \n",
            "105384  accessoires de toilette   -0.118601  \n",
            "105385  accessoires de toilette   -0.118601  \n",
            "148817  accessoires de toilette   -0.123458  \n"
          ]
        }
      ]
    },
    {
      "cell_type": "markdown",
      "source": [
        "**---> Save the model**"
      ],
      "metadata": {
        "id": "KCtNWngJ37Cb"
      }
    },
    {
      "cell_type": "code",
      "source": [
        "model.save(\"word2vec.model\")"
      ],
      "metadata": {
        "id": "pk3DX7pt0YYg"
      },
      "execution_count": 57,
      "outputs": []
    },
    {
      "cell_type": "markdown",
      "source": [
        "# implementation of the product-level Git repository"
      ],
      "metadata": {
        "id": "gz9BlY4swoHJ"
      }
    },
    {
      "cell_type": "code",
      "source": [
        "%%writefile input_cleaning.py\n",
        "# Importing spacy\n",
        "import spacy\n",
        "from spacy.lang.fr.examples import sentences\n",
        "# For regular expressions\n",
        "import re\n",
        "# For handling string\n",
        "import string\n",
        "\n",
        "# Loading model\n",
        "nlp = spacy.load('fr_core_news_sm',disable=['parser', 'ner'])\n",
        "\n",
        "def input_cleaning(product_name):\n",
        "  #cleaning\n",
        "  product_name=product_name.lower()\n",
        "  product_name=re.sub('\\w*\\d\\w*','', product_name)\n",
        "  product_name=re.sub('[%s]' % re.escape(string.punctuation), '', product_name)\n",
        "  product_name=re.sub(' +',' ',product_name)\n",
        "  # Lemmatization with stopwords removal\n",
        "  product_name = ' '.join([token.lemma_ for token in list(nlp(product_name)) if (token.is_stop==False)])\n",
        "  return product_name"
      ],
      "metadata": {
        "colab": {
          "base_uri": "https://localhost:8080/"
        },
        "id": "K6NuXLQWARPI",
        "outputId": "9ffa987a-c7bf-4fce-8e7f-98f7454763c5"
      },
      "execution_count": 115,
      "outputs": [
        {
          "output_type": "stream",
          "name": "stdout",
          "text": [
            "Writing input_cleaning.py\n"
          ]
        }
      ]
    },
    {
      "cell_type": "code",
      "source": [
        "%%writefile compute_similarity.py\n",
        "\n",
        "import numpy as np\n",
        "from gensim.models import Word2Vec\n",
        "from nltk.tokenize import word_tokenize\n",
        "from scipy import spatial\n",
        "import nltk\n",
        "nltk.download('punkt')\n",
        "\n",
        "def compute_similarity(model, product_name1, product_name2):\n",
        "    \"\"\"\n",
        "    Computes the cosine similarity between the embeddings of two product names using a pre-trained Word2Vec model.\n",
        "    \"\"\"\n",
        "    # Tokenize the product names\n",
        "    tokens1 = word_tokenize(product_name1)\n",
        "    tokens2 = word_tokenize(product_name2)\n",
        "    \n",
        "    # Compute the embeddings for each product name\n",
        "    embeddings1 = []\n",
        "    for token in tokens1:\n",
        "        if token in model.wv:\n",
        "            embeddings1.append(model.wv[token])\n",
        "    if not embeddings1:\n",
        "        return 0.0\n",
        "    embeddings1 = np.mean(embeddings1, axis=0)\n",
        "    \n",
        "    embeddings2 = []\n",
        "    for token in tokens2:\n",
        "        if token in model.wv:\n",
        "            embeddings2.append(model.wv[token])\n",
        "    if not embeddings2:\n",
        "        return 0.0\n",
        "    embeddings2 = np.mean(embeddings2, axis=0)\n",
        "    \n",
        "    # Compute the cosine similarity between the embeddings\n",
        "    similarity = 1 - spatial.distance.cosine(embeddings1, embeddings2)\n",
        "    \n",
        "    return similarity"
      ],
      "metadata": {
        "colab": {
          "base_uri": "https://localhost:8080/"
        },
        "id": "iyglqeH8t18m",
        "outputId": "9c00f68f-07fa-459b-d680-e043efbe15e8"
      },
      "execution_count": 117,
      "outputs": [
        {
          "output_type": "stream",
          "name": "stdout",
          "text": [
            "Writing compute_similarity.py\n"
          ]
        }
      ]
    },
    {
      "cell_type": "code",
      "source": [
        "%%writefile get_similar_products.py\n",
        "\n",
        "import pandas as pd\n",
        "from gensim.models import Word2Vec\n",
        "from compute_similarity import compute_similarity\n",
        "\n",
        "# Load the product metadata CSV file\n",
        "data = pd.read_csv('data/cleanData.csv')\n",
        "\n",
        "# Load the model\n",
        "model = Word2Vec.load(\"models/word2vec.model\")\n",
        "\n",
        "def get_similar_products(product_name, n):\n",
        "    # Compute the semantic similarity between the given product name and all other product names\n",
        "    similarities = []\n",
        "    for name in data['name']:\n",
        "        similarity = compute_similarity(model, product_name, name)\n",
        "        similarities.append(similarity)\n",
        "    \n",
        "    # Sort the products by semantic similarity\n",
        "    data['similarity'] = similarities\n",
        "    df_sorted = data.sort_values(by='similarity', ascending=False)\n",
        "    \n",
        "    # Get the n most and least similar products\n",
        "    most_similar = df_sorted.head(n)[['name', 'brand', 'category', 'similarity']]\n",
        "    least_similar = df_sorted.tail(n)[['name', 'brand', 'category', 'similarity']]\n",
        "    \n",
        "    return most_similar, least_similar"
      ],
      "metadata": {
        "colab": {
          "base_uri": "https://localhost:8080/"
        },
        "id": "hboywO3bxgO1",
        "outputId": "27719dce-c5aa-49fe-c757-f8d99404a567"
      },
      "execution_count": 106,
      "outputs": [
        {
          "output_type": "stream",
          "name": "stdout",
          "text": [
            "Writing get_similar_products.py\n"
          ]
        }
      ]
    },
    {
      "cell_type": "code",
      "source": [
        "%%writefile train.py\n",
        "\n",
        "import pandas as pd\n",
        "from gensim.models import Word2Vec\n",
        "from nltk.tokenize import word_tokenize\n",
        "import nltk\n",
        "nltk.download('punkt')\n",
        "\n",
        "# Load the product metadata CSV file\n",
        "data = pd.read_csv('data/cleanData.csv')\n",
        "\n",
        "# Tokenize the product names\n",
        "tokenized_names = data['name'].apply(word_tokenize)\n",
        "\n",
        "# Train a Word2Vec model on the tokenized product names\n",
        "model = Word2Vec(tokenized_names,min_count=1, workers=4)\n",
        "\n",
        "model.save(\"models/word2vec.model\")"
      ],
      "metadata": {
        "colab": {
          "base_uri": "https://localhost:8080/"
        },
        "id": "Pb8693mtxgxu",
        "outputId": "228c8f1b-362c-4def-a434-656badec6136"
      },
      "execution_count": 107,
      "outputs": [
        {
          "output_type": "stream",
          "name": "stdout",
          "text": [
            "Writing train.py\n"
          ]
        }
      ]
    },
    {
      "cell_type": "code",
      "source": [
        "%%writefile app.py\n",
        "\n",
        "import argparse\n",
        "from get_similar_products import get_similar_products\n",
        "from input_cleaning import input_cleaning\n",
        "\n",
        "if __name__ == '__main__':\n",
        "    parser = argparse.ArgumentParser(description='Find similar products')\n",
        "    parser.add_argument('product_name', type=str, help='Name of the product')\n",
        "    parser.add_argument('num_similar', type=int, help='Number of similar products to retrieve')\n",
        "    args = parser.parse_args()\n",
        "\n",
        "    product_name = input_cleaning(args.product_name)\n",
        "    num_similar = args.num_similar\n",
        "\n",
        "    most_similar, least_similar = get_similar_products(product_name, num_similar)\n",
        "\n",
        "    # Output the results\n",
        "    print(f'The {num_similar} most similar products to \"{product_name}\" are:')\n",
        "    print(most_similar)\n",
        "    print()\n",
        "    print(f'The {num_similar} least similar products to \"{product_name}\" are:')\n",
        "    print(least_similar)\n"
      ],
      "metadata": {
        "colab": {
          "base_uri": "https://localhost:8080/"
        },
        "id": "aiGXVXdSxhO9",
        "outputId": "c0692329-c962-4111-dfcd-09f84070a8d6"
      },
      "execution_count": 110,
      "outputs": [
        {
          "output_type": "stream",
          "name": "stdout",
          "text": [
            "Writing app.py\n"
          ]
        }
      ]
    },
    {
      "cell_type": "code",
      "source": [
        "import locale\n",
        "def getpreferredencoding(do_setlocale = True):\n",
        "    return \"UTF-8\"\n",
        "locale.getpreferredencoding = getpreferredencoding"
      ],
      "metadata": {
        "id": "vBy8jnNK0oKm"
      },
      "execution_count": 112,
      "outputs": []
    },
    {
      "cell_type": "code",
      "source": [
        "!python train.py"
      ],
      "metadata": {
        "colab": {
          "base_uri": "https://localhost:8080/"
        },
        "id": "4D_mGO9S6M92",
        "outputId": "bab8ccc5-85bd-46f8-89fd-6b67a122438b"
      },
      "execution_count": 113,
      "outputs": [
        {
          "output_type": "stream",
          "name": "stdout",
          "text": [
            "[nltk_data] Downloading package punkt to /root/nltk_data...\n",
            "[nltk_data]   Package punkt is already up-to-date!\n"
          ]
        }
      ]
    },
    {
      "cell_type": "code",
      "source": [
        "!python app.py \"Boisson aux fruits multivitaminé Teisseire\" 5"
      ],
      "metadata": {
        "colab": {
          "base_uri": "https://localhost:8080/"
        },
        "id": "IAbDjFEg0KxH",
        "outputId": "37b4a3e0-876f-433c-8fde-8245089b362e"
      },
      "execution_count": 118,
      "outputs": [
        {
          "output_type": "stream",
          "name": "stdout",
          "text": [
            "[nltk_data] Downloading package punkt to /root/nltk_data...\n",
            "[nltk_data]   Package punkt is already up-to-date!\n",
            "2023-03-23 01:37:09.701398: W tensorflow/compiler/xla/stream_executor/platform/default/dso_loader.cc:64] Could not load dynamic library 'libnvinfer.so.7'; dlerror: libnvinfer.so.7: cannot open shared object file: No such file or directory; LD_LIBRARY_PATH: /usr/lib64-nvidia\n",
            "2023-03-23 01:37:09.701527: W tensorflow/compiler/xla/stream_executor/platform/default/dso_loader.cc:64] Could not load dynamic library 'libnvinfer_plugin.so.7'; dlerror: libnvinfer_plugin.so.7: cannot open shared object file: No such file or directory; LD_LIBRARY_PATH: /usr/lib64-nvidia\n",
            "2023-03-23 01:37:09.701547: W tensorflow/compiler/tf2tensorrt/utils/py_utils.cc:38] TF-TRT Warning: Cannot dlopen some TensorRT libraries. If you would like to use Nvidia GPU with TensorRT, please make sure the missing libraries mentioned above are installed properly.\n",
            "The 5 most similar products to \"boisson fruit multivitaminer teisseir\" are:\n",
            "                                         name  ... similarity\n",
            "0       boisson fruit multivitaminer teisseir  ...   1.000000\n",
            "65966           boisson fruit pommepoir oasis  ...   0.997271\n",
            "65967           boisson fruit pommepoir oasis  ...   0.997271\n",
            "145341          boisson fruit pommepoir oasis  ...   0.997271\n",
            "84609    boisson fruit multivitamine caprisun  ...   0.997214\n",
            "\n",
            "[5 rows x 4 columns]\n",
            "\n",
            "The 5 least similar products to \"boisson fruit multivitaminer teisseir\" are:\n",
            "                                              name  ... similarity\n",
            "149595  escargot bourguignon francaise gastronomie  ...  -0.084454\n",
            "87225   escargot bourguignon francaise gastronomie  ...  -0.084454\n",
            "87222   escargot bourguignon francaise gastronomie  ...  -0.084454\n",
            "87195   escargot bourguignon francaise gastronomie  ...  -0.084454\n",
            "149596              escargot francaise gastronomie  ...  -0.089820\n",
            "\n",
            "[5 rows x 4 columns]\n"
          ]
        }
      ]
    },
    {
      "cell_type": "code",
      "source": [
        "!pip freeze > requirements.txt "
      ],
      "metadata": {
        "id": "JiQ-l9QH5xiu"
      },
      "execution_count": 103,
      "outputs": []
    }
  ]
}